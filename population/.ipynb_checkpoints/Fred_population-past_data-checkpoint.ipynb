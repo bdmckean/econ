{
 "cells": [
  {
   "cell_type": "code",
   "execution_count": 1,
   "metadata": {},
   "outputs": [
    {
     "ename": "ModuleNotFoundError",
     "evalue": "No module named 'requests'",
     "output_type": "error",
     "traceback": [
      "\u001b[0;31m---------------------------------------------------------------------------\u001b[0m",
      "\u001b[0;31mModuleNotFoundError\u001b[0m                       Traceback (most recent call last)",
      "\u001b[0;32m<ipython-input-1-2444022bb22b>\u001b[0m in \u001b[0;36m<module>\u001b[0;34m\u001b[0m\n\u001b[1;32m      4\u001b[0m '''\n\u001b[1;32m      5\u001b[0m \u001b[0;34m\u001b[0m\u001b[0m\n\u001b[0;32m----> 6\u001b[0;31m \u001b[0;32mimport\u001b[0m \u001b[0mrequests\u001b[0m\u001b[0;34m\u001b[0m\u001b[0;34m\u001b[0m\u001b[0m\n\u001b[0m\u001b[1;32m      7\u001b[0m \u001b[0;32mimport\u001b[0m \u001b[0mpandas\u001b[0m \u001b[0;32mas\u001b[0m \u001b[0mpd\u001b[0m\u001b[0;34m\u001b[0m\u001b[0;34m\u001b[0m\u001b[0m\n\u001b[1;32m      8\u001b[0m \u001b[0mget_ipython\u001b[0m\u001b[0;34m(\u001b[0m\u001b[0;34m)\u001b[0m\u001b[0;34m.\u001b[0m\u001b[0mrun_line_magic\u001b[0m\u001b[0;34m(\u001b[0m\u001b[0;34m'matplotlib'\u001b[0m\u001b[0;34m,\u001b[0m \u001b[0;34m'inline'\u001b[0m\u001b[0;34m)\u001b[0m\u001b[0;34m\u001b[0m\u001b[0;34m\u001b[0m\u001b[0m\n",
      "\u001b[0;31mModuleNotFoundError\u001b[0m: No module named 'requests'"
     ]
    }
   ],
   "source": [
    "'''\n",
    "Population data from FRED API\n",
    "\n",
    "'''\n",
    "\n",
    "import requests\n",
    "import pandas as pd\n",
    "%matplotlib inline\n",
    "import matplotlib.pyplot as plt\n",
    "from datetime import datetime\n",
    "plt.style.use('seaborn-whitegrid')\n",
    "import numpy as np\n",
    "import os\n",
    "from dateutil import parser\n",
    "from collections import defaultdict"
   ]
  },
  {
   "cell_type": "code",
   "execution_count": null,
   "metadata": {},
   "outputs": [],
   "source": [
    "\n"
   ]
  },
  {
   "cell_type": "code",
   "execution_count": null,
   "metadata": {},
   "outputs": [],
   "source": [
    "\n",
    "def do_series_search(search_data):\n",
    "    '''\n",
    "    Does a search of FRED data series\n",
    "    INPUT: data to seach (list of strings)\n",
    "    OUTPUT: json results from FRED\n",
    "    '''\n",
    "    fred_search_url = 'https://api.stlouisfed.org/fred/series/search?api_key=4a35874b8a4526dd50b390e46f396651&search_text={0}&file_type=json'  \n",
    "    if type(search_data) != type(list):\n",
    "        search_data = [search_data]\n",
    "    search_string = '+'.join([x.lower() for x in search_data])\n",
    "    print(search_string)\n",
    "    fred_response = requests.get(fred_search_url.format(search_string))\n",
    "    result = fred_response.json()\n",
    "    return result\n",
    "    \n",
    "def get_series(series_id):\n",
    "    '''\n",
    "    Fetches FRED data series\n",
    "    INPUT: data to seach (list of strings)\n",
    "    OUTPUT: json results from FRED\n",
    "    '''\n",
    "    fred_series_fetch_url = 'https://api.stlouisfed.org/fred/series/observations?series_id={0}' + \\\n",
    "'&api_key=4a35874b8a4526dd50b390e46f396651&file_type=json'\n",
    "    fred_response = requests.get(fred_series_fetch_url.format(series_id))\n",
    "    result = fred_response.json()\n",
    "    #print(result)\n",
    "    return result \n",
    "\n",
    "\n",
    "def get_population_data(country):\n",
    "    '''\n",
    "    Get Poplatation data from FRED\n",
    "    INPUT: Country (String)\n",
    "    OUTPUT: dictionary of data \n",
    "    '''\n",
    "    population_titles_of_interest = [\n",
    "    'Employment to Population Ratio for',\n",
    "    'Age Dependency Ratio: Older Dependents to Working-Age Population for',\n",
    "    'Population Ages 15 to 64 for',\n",
    "    'Population, Total for',\n",
    "    'Population'\n",
    "    ]\n",
    "\n",
    "    search_string = country.lower()\n",
    "    \n",
    "    country_series  = do_series_search(search_string)\n",
    "    series_ids = {}\n",
    "    series_notes = {}\n",
    "    #print(country_series)\n",
    "\n",
    "    for elem in country_series['seriess']:\n",
    "        #print(elem)\n",
    "        for title in population_titles_of_interest:\n",
    "            #if elem['title'].startswith(title):\n",
    "            if 'population' in elem['title'].lower():\n",
    "                series_ids[elem['title']] = elem['id']\n",
    "                series_notes[elem['title']] = elem['notes']\n",
    "    print(series_ids)\n",
    "    ans = {}\n",
    "    for title, series_id in series_ids.items():\n",
    "        series = {}\n",
    "        series_info = get_series(series_id)\n",
    "        series['title'] = title\n",
    "        series['units'] = series_info['units']\n",
    "        series['notes'] = series_notes[title]\n",
    "        series['dates'] = [x['date'] for x in series_info['observations']]\n",
    "        series['values'] = [x['value'] for x in series_info['observations']]\n",
    "        ans[title] = series\n",
    "    \n",
    "    return ans\n",
    "\n",
    "\n",
    "def get_series_info_by_title(title, country):\n",
    "    '''\n",
    "    Get series data by specific title\n",
    "    INPUT: title (str) \n",
    "            country (str)\n",
    "    OUTPUT: series info\n",
    "    \n",
    "    '''\n",
    "    print(title)\n",
    "    print(country)\n",
    "    save_country = country\n",
    "    if country.lower() == 'south korea':\n",
    "        country = 'republic of korea'\n",
    "    country_series  = do_series_search(country.lower())\n",
    "    series_ids = {}\n",
    "    series_notes = {}\n",
    "    for elem in country_series['seriess']:\n",
    "        print(elem['title'] ,elem['frequency'], elem['id'])\n",
    "        #print(elem)\n",
    "        if title.lower() == elem['title'].lower():\n",
    "            if 'frequency' in elem:\n",
    "                if elem['frequency'].lower() == 'annual':\n",
    "                    print('found one {0}'.format(title))\n",
    "                    print(elem)\n",
    "                    series_ids[elem['title']] = elem['id']\n",
    "                    series_notes[elem['title']] = elem['notes']\n",
    "    print('series ids', series_ids)\n",
    "    ans = {}\n",
    "    # For some reason cannot generically find us data\n",
    "    # series_id['population, total for united states'] = 'POPTOTUSA647NWDB'\n",
    "    # series_notes = {'title':'population, total for united states'}\n",
    "    for title, series_id in series_ids.items():\n",
    "        print('search1', title, series_id)\n",
    "        series = {}\n",
    "        series_info = get_series(series_id)\n",
    "        series['title'] = title\n",
    "        series['units'] = series_info['units']\n",
    "        series['notes'] = series_notes[title]\n",
    "        series['dates'] = [x['date'] for x in series_info['observations']]\n",
    "        series['values'] = [x['value'] for x in series_info['observations']]\n",
    "        ans[save_country] = series\n",
    "    return ans\n",
    "    \n",
    "\n",
    "        \n",
    "                \n",
    "    \n",
    "    \n",
    "    "
   ]
  },
  {
   "cell_type": "code",
   "execution_count": null,
   "metadata": {},
   "outputs": [],
   "source": [
    "'''\n",
    "These do not work as the titles vary by country\n",
    "\n",
    "'''\n",
    "\n",
    "def get_total_population_data_for_counry_set(country_set):\n",
    "    '''\n",
    "    Get total population\n",
    "    \n",
    "    '''\n",
    "    country_set_data = {}\n",
    "    for country in country_set:\n",
    "        save_country = country\n",
    "        country = country.lower()\n",
    "        title_string = 'population for {0}'.format(country)\n",
    "        if country.lower() in {'usa', 'united states'}:\n",
    "            title_string = 'population' \n",
    "        print(title_string)\n",
    "        info = get_series_info_by_title(title_string, save_country)\n",
    "        country_set_data[save_country] = info\n",
    "    return country_set_data\n",
    "\n",
    "\n",
    "'''\n",
    "\n",
    "\n",
    "'''\n",
    "def get_working_age_percent_for_country_set(country_set):\n",
    "    country_set_data = {}\n",
    "    for country in country_set:\n",
    "        save_country = country\n",
    "        country = country.lower()\n",
    "        title_string = 'population ages 15 to 64 for {0}'.format(country)\n",
    "        info = get_series_info_by_title(title_string, save_country)\n",
    "        country_set_data[save_country] = info\n",
    "    return country_set_data\n",
    "    \n",
    "    \n",
    "    "
   ]
  },
  {
   "cell_type": "code",
   "execution_count": null,
   "metadata": {
    "scrolled": true
   },
   "outputs": [],
   "source": [
    "this_set = get_total_population_data_for_counry_set(['United States'])\n",
    "\n",
    "\n",
    "\n"
   ]
  },
  {
   "cell_type": "code",
   "execution_count": null,
   "metadata": {},
   "outputs": [],
   "source": [
    "this_set"
   ]
  },
  {
   "cell_type": "code",
   "execution_count": null,
   "metadata": {},
   "outputs": [],
   "source": [
    "country_set = ['China', 'Japan', 'Republic of Korea', 'Germany', 'United States']"
   ]
  },
  {
   "cell_type": "code",
   "execution_count": null,
   "metadata": {
    "scrolled": true
   },
   "outputs": [],
   "source": [
    "total_population_set = get_total_population_data_for_counry_set(country_set)"
   ]
  },
  {
   "cell_type": "code",
   "execution_count": null,
   "metadata": {
    "scrolled": true
   },
   "outputs": [],
   "source": [
    "\n",
    "total_population_set"
   ]
  },
  {
   "cell_type": "code",
   "execution_count": null,
   "metadata": {},
   "outputs": [],
   "source": [
    "working_population_set = get_working_age_percent_for_country_set(country_set)"
   ]
  },
  {
   "cell_type": "code",
   "execution_count": null,
   "metadata": {
    "scrolled": false
   },
   "outputs": [],
   "source": [
    "working_population_set"
   ]
  },
  {
   "cell_type": "code",
   "execution_count": null,
   "metadata": {},
   "outputs": [],
   "source": [
    "\n",
    "working_age_population_set = {\n",
    "'Germany':'Working Age Population: Aged 15-64: All Persons for Germany',\n",
    "'South Korea':'Working Age Population: Aged 15-64: All Persons for the Republic of Korea',\n",
    "'Japan':'Working Age Population: Aged 15-64: All Persons for Japan',\n",
    "'USA':'Working Age Population: Aged 15-64: All Persons for the United States',\n",
    "'China':'Population Ages 15 to 64 for China', # This is a ratio -- need to multiple by population\n",
    "}\n",
    "\n",
    "working_age_population_ratio_set = {\n",
    "'Germany':'Employment to Population Ratio for Germany',\n",
    "'South Korea':'Employment to Population Ratio for the Republic of Korea',\n",
    "'Japan':'Employment to Population Ratio for Japan',\n",
    "'USA':'Employment to Population Ratio for the United States', # USA\n",
    "'China':'Population Ages 15 to 64 for China',\n",
    "}\n"
   ]
  },
  {
   "cell_type": "code",
   "execution_count": null,
   "metadata": {
    "scrolled": true
   },
   "outputs": [],
   "source": [
    "working_age_population = {}\n",
    "for country in working_age_population_set:\n",
    "    working_age_population[country] =  get_series_info_by_title( working_age_population_set[country], country )"
   ]
  },
  {
   "cell_type": "code",
   "execution_count": null,
   "metadata": {},
   "outputs": [],
   "source": [
    "working_age_population_ratio = {}\n",
    "for country in working_age_population_ratio_set:\n",
    "    working_age_population_ratio[country] = get_series_info_by_title(working_age_population_ratio_set[country], country )"
   ]
  },
  {
   "cell_type": "code",
   "execution_count": null,
   "metadata": {
    "scrolled": true
   },
   "outputs": [],
   "source": [
    "working_age_population"
   ]
  },
  {
   "cell_type": "code",
   "execution_count": null,
   "metadata": {
    "scrolled": false
   },
   "outputs": [],
   "source": [
    "calculated_working_age_population = []\n",
    "calculated_working_age_dates = []\n",
    "for date in working_age_population['China']['China']['dates']:\n",
    "    if date in total_population_set['China']['China']['dates']:\n",
    "        calculated_working_age_dates.append(date)\n",
    "        working_population_index = working_age_population['China']['China']['dates'].index(date)\n",
    "        total_population_index = total_population_set['China']['China']['dates'].index(date)\n",
    "        print(date, working_population_index, total_population_index)\n",
    "        total_population_value = total_population_set['China']['China']['values'][total_population_index]\n",
    "        working_population_value = working_age_population['China']['China']['values'][working_population_index]\n",
    "        print(total_population_value, working_population_value)\n",
    "        if  working_population_value.replace('.','',1).isnumeric() and working_population_value.replace('.','',1).isnumeric():\n",
    "            print(total_population_value,working_population_value )\n",
    "            calculated_working_age_population.append(\n",
    "                str( float(total_population_value) * (float(working_population_value) /100)  ))\n",
    "        else:\n",
    "            calculated_working_age_population.append('')\n",
    "        \n",
    "        \n",
    "     "
   ]
  },
  {
   "cell_type": "code",
   "execution_count": null,
   "metadata": {
    "scrolled": true
   },
   "outputs": [],
   "source": [
    "calculated_working_age_population"
   ]
  },
  {
   "cell_type": "code",
   "execution_count": null,
   "metadata": {},
   "outputs": [],
   "source": [
    "working_age_population['China']['China']['values'] = calculated_working_age_population\n",
    "working_age_population['China']['China']['dates'] = calculated_working_age_dates"
   ]
  },
  {
   "cell_type": "code",
   "execution_count": null,
   "metadata": {},
   "outputs": [],
   "source": [
    "working_age_population['China']['China']['dates']"
   ]
  },
  {
   "cell_type": "code",
   "execution_count": null,
   "metadata": {
    "scrolled": true
   },
   "outputs": [],
   "source": [
    "#working_age_population_ratio"
   ]
  },
  {
   "cell_type": "code",
   "execution_count": null,
   "metadata": {},
   "outputs": [],
   "source": [
    "from collections import defaultdict"
   ]
  },
  {
   "cell_type": "code",
   "execution_count": null,
   "metadata": {},
   "outputs": [],
   "source": [
    "def make_dataframe(dict_info):\n",
    "    columns = dict_info.keys()\n",
    "    values = defaultdict(list)\n",
    "    dates_set = set()\n",
    "    for country in columns:\n",
    "        #print(country)\n",
    "        #print(dict_info[country])\n",
    "        #print(dict_info[country][country])\n",
    "        dates_set.update(set(dict_info[country][country]['dates']))\n",
    "   \n",
    "    print (dates_set)\n",
    "    \n",
    "    dates_list = list(dates_set)\n",
    "    dates_list = sorted(dates_list)\n",
    "    for date in dates_list:\n",
    "        for country in dict_info:\n",
    "            print(date, country)\n",
    "            if date in dict_info[country][country]['dates']:\n",
    "                values[date].append(\n",
    "                    dict_info[country][country]['values'][dict_info[country][country]['dates'].index(date)])\n",
    "            else:\n",
    "                values[date].append('')\n",
    "    print(values)\n",
    "    df_ans = pd.DataFrame.from_dict(values, orient='index', columns=columns)         \n",
    "    return df_ans\n",
    "    "
   ]
  },
  {
   "cell_type": "code",
   "execution_count": null,
   "metadata": {
    "scrolled": true
   },
   "outputs": [],
   "source": [
    "df_countries = make_dataframe(working_age_population)"
   ]
  },
  {
   "cell_type": "code",
   "execution_count": null,
   "metadata": {},
   "outputs": [],
   "source": []
  },
  {
   "cell_type": "code",
   "execution_count": null,
   "metadata": {},
   "outputs": [],
   "source": [
    "\n",
    "df_countries.rename(columns={'USA':'United States'}, inplace=True)"
   ]
  },
  {
   "cell_type": "code",
   "execution_count": null,
   "metadata": {},
   "outputs": [],
   "source": [
    "# Working age population\n",
    "df_countries"
   ]
  },
  {
   "cell_type": "code",
   "execution_count": null,
   "metadata": {},
   "outputs": [],
   "source": [
    "df_countries.head()"
   ]
  },
  {
   "cell_type": "code",
   "execution_count": null,
   "metadata": {},
   "outputs": [],
   "source": [
    "for column in list(df_countries.columns):\n",
    "    df_countries[column] = pd.to_numeric(df_countries[column],  errors='coerce')\n",
    "    print(column)\n",
    "    if column != 'China':\n",
    "        df_countries[column] = df_countries[column] / 1000000\n"
   ]
  },
  {
   "cell_type": "code",
   "execution_count": null,
   "metadata": {},
   "outputs": [],
   "source": []
  },
  {
   "cell_type": "code",
   "execution_count": null,
   "metadata": {},
   "outputs": [],
   "source": [
    "df_countries_total = make_dataframe(total_population_set)"
   ]
  },
  {
   "cell_type": "code",
   "execution_count": null,
   "metadata": {},
   "outputs": [],
   "source": [
    "df_countries_total.rename(columns={'Republic of Korea': 'South Korea'}, inplace=True)"
   ]
  },
  {
   "cell_type": "code",
   "execution_count": null,
   "metadata": {},
   "outputs": [],
   "source": [
    "df_countries_total"
   ]
  },
  {
   "cell_type": "code",
   "execution_count": null,
   "metadata": {},
   "outputs": [],
   "source": [
    "for column in list(df_countries_total.columns):\n",
    "    df_countries_total[column] = pd.to_numeric(df_countries_total[column],  errors='coerce')\n",
    "    print(column)\n",
    "    if column == 'China':\n",
    "        df_countries_total[column] = df_countries_total[column]\n",
    "    else:\n",
    "        df_countries_total[column] = df_countries_total[column] / 1000"
   ]
  },
  {
   "cell_type": "code",
   "execution_count": null,
   "metadata": {},
   "outputs": [],
   "source": [
    "# Change year labels to only year\n",
    "df_countries['Year'] = df_countries.index.map(lambda x: x.split('-')[0])\n",
    "df_countries_total['Year'] = df_countries_total.index.map(lambda x: x.split('-')[0])"
   ]
  },
  {
   "cell_type": "code",
   "execution_count": null,
   "metadata": {},
   "outputs": [],
   "source": [
    "df_countries.set_index(['Year'], inplace=True)\n",
    "df_countries_total.set_index(['Year'], inplace=True)"
   ]
  },
  {
   "cell_type": "code",
   "execution_count": null,
   "metadata": {},
   "outputs": [],
   "source": [
    "data_dir = '../data'"
   ]
  },
  {
   "cell_type": "code",
   "execution_count": null,
   "metadata": {},
   "outputs": [],
   "source": [
    "import os\n",
    "pop_file = 'FRED_pop.csv'\n",
    "work_file = 'FRED_work.csv'\n",
    "pop_path = os.path.join(data_dir, pop_file)\n",
    "work_path = os.path.join(data_dir, work_file)"
   ]
  },
  {
   "cell_type": "code",
   "execution_count": null,
   "metadata": {},
   "outputs": [],
   "source": [
    "df_countries.to_csv(work_path, index=True)\n",
    "df_countries_total.to_csv(pop_path, index=True)"
   ]
  },
  {
   "cell_type": "code",
   "execution_count": null,
   "metadata": {},
   "outputs": [],
   "source": [
    "ls -al '/Users/brianmckean/Dropbox/ChinaEconomy/'"
   ]
  },
  {
   "cell_type": "code",
   "execution_count": null,
   "metadata": {},
   "outputs": [],
   "source": [
    "df_countries"
   ]
  },
  {
   "cell_type": "code",
   "execution_count": null,
   "metadata": {},
   "outputs": [],
   "source": [
    "df_countries.plot(title='Working Age Population')"
   ]
  },
  {
   "cell_type": "code",
   "execution_count": null,
   "metadata": {},
   "outputs": [],
   "source": [
    "df_temp = df_countries.copy()"
   ]
  },
  {
   "cell_type": "code",
   "execution_count": null,
   "metadata": {},
   "outputs": [],
   "source": [
    "# Normalize data\n",
    "df_temp2 = (df_temp - df_temp.min()) / (df_temp.max() - df_temp.min())"
   ]
  },
  {
   "cell_type": "code",
   "execution_count": null,
   "metadata": {},
   "outputs": [],
   "source": [
    "df_temp2.plot(title='Working Age Population  - normalized')"
   ]
  },
  {
   "cell_type": "code",
   "execution_count": null,
   "metadata": {},
   "outputs": [],
   "source": [
    "df_temp3 = (df_temp / df_temp.max()) * 100"
   ]
  },
  {
   "cell_type": "code",
   "execution_count": null,
   "metadata": {},
   "outputs": [],
   "source": [
    "df_temp3.plot(title='Working Age Population  - max = 100%')"
   ]
  },
  {
   "cell_type": "code",
   "execution_count": null,
   "metadata": {},
   "outputs": [],
   "source": [
    "df_countries_total.plot(title='Total Population')"
   ]
  },
  {
   "cell_type": "code",
   "execution_count": null,
   "metadata": {},
   "outputs": [],
   "source": [
    "df_countries_total"
   ]
  },
  {
   "cell_type": "code",
   "execution_count": null,
   "metadata": {},
   "outputs": [],
   "source": []
  },
  {
   "cell_type": "code",
   "execution_count": null,
   "metadata": {},
   "outputs": [],
   "source": []
  },
  {
   "cell_type": "code",
   "execution_count": null,
   "metadata": {},
   "outputs": [],
   "source": []
  },
  {
   "cell_type": "raw",
   "metadata": {},
   "source": []
  }
 ],
 "metadata": {
  "kernelspec": {
   "display_name": "Python 3",
   "language": "python",
   "name": "python3"
  },
  "language_info": {
   "codemirror_mode": {
    "name": "ipython",
    "version": 3
   },
   "file_extension": ".py",
   "mimetype": "text/x-python",
   "name": "python",
   "nbconvert_exporter": "python",
   "pygments_lexer": "ipython3",
   "version": "3.7.5"
  }
 },
 "nbformat": 4,
 "nbformat_minor": 2
}
