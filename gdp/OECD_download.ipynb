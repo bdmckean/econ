{
 "cells": [
  {
   "cell_type": "code",
   "execution_count": 1,
   "metadata": {},
   "outputs": [],
   "source": [
    "import requests"
   ]
  },
  {
   "cell_type": "code",
   "execution_count": null,
   "metadata": {},
   "outputs": [],
   "source": []
  },
  {
   "cell_type": "code",
   "execution_count": null,
   "metadata": {},
   "outputs": [],
   "source": []
  },
  {
   "cell_type": "code",
   "execution_count": null,
   "metadata": {},
   "outputs": [],
   "source": []
  },
  {
   "cell_type": "code",
   "execution_count": 2,
   "metadata": {},
   "outputs": [],
   "source": [
    "url = 'http://stats.oecd.org/sdmx-json/data/QNA/AUS+AUT.GDP+B1_GE.CUR+VOBARSA.Q/all?startTime=2009-Q2&endTime=2011-Q4&dimensionAtObservation=allDimensions'\n"
   ]
  },
  {
   "cell_type": "code",
   "execution_count": 3,
   "metadata": {},
   "outputs": [],
   "source": [
    "test_ans = requests.get(url)"
   ]
  },
  {
   "cell_type": "code",
   "execution_count": 4,
   "metadata": {},
   "outputs": [
    {
     "data": {
      "text/plain": [
       "<Response [200]>"
      ]
     },
     "execution_count": 4,
     "metadata": {},
     "output_type": "execute_result"
    }
   ],
   "source": [
    "test_ans\n"
   ]
  },
  {
   "cell_type": "code",
   "execution_count": 5,
   "metadata": {},
   "outputs": [
    {
     "data": {
      "text/plain": [
       "b'{\"header\":{\"id\":\"c8b35584-4415-41b4-a55f-4b5c93b9e989\",\"test\":false,\"prepared\":\"2020-02-16T05:10:40.9091324Z\",\"sender\":{\"id\":\"OECD\",\"name\":\"Organisation for Economic Co-operation and Development\"},\"links\":[{\"href\":\"https://stats.oecd.org:443/sdmx-json/data/QNA/AUS+AUT.GDP+B1_GE.CUR+VOBARSA.Q/all?startTime=2009-Q2&endTime=2011-Q4&dimensionAtObservation=allDimensions\",\"rel\":\"request\"}]},\"dataSets\":[{\"action\":\"Information\",\"observations\":{\"0:0:0:0:0\":[1398143.673605,0,null,0,0,0],\"0:0:0:0:1\":[1402442.128758,0,null,0,0,0],\"0:0:0:0:2\":[1412731.105258,0,null,0,0,0],\"0:0:0:0:3\":[1419829.43676,0,null,0,0,0],\"0:0:0:0:4\":[1427181.957578,0,null,0,0,0],\"0:0:0:0:5\":[1437178.806058,0,null,0,0,0],\"0:0:0:0:6\":[1451758.649971,0,null,0,0,0],\"0:0:0:0:7\":[1447869.93282,0,null,0,0,0],\"0:0:0:0:8\":[1464824.739598,0,null,0,0,0],\"0:0:0:0:9\":[1484685.651095,0,null,0,0,0],\"0:0:0:0:10\":[1501568.374335,0,null,0,0,0],\"1:0:0:0:0\":[318560.263075,0,null,1,0,0],\"1:0:0:0:1\":[319615.851072,0,null,1,0,0],\"1:0:0:0:2\":[322981.587062,0,null,1,0,0],\"1:0:0:0:3\":[320420.395069,0,null,1,0,0],\"1:0:0:0:4\":[325728.719054,0,null,1,0,0],\"1:0:0:0:5\":[328853.355045,0,null,1,0,0],\"1:0:0:0:6\":[330979.703039,0,null,1,0,0],\"1:0:0:0:7\":[335790.291025,0,null,1,0,0],\"1:0:0:0:8\":[336477.819023,0,null,1,0,0],\"1:0:0:0:9\":[336513.367023,0,null,1,0,0],\"1:0:0:0:10\":[337069.319021,0,null,1,0,0]}}],\"structure\":{\"links\":[{\"href\":\"https://stats.oecd.org/sdmx-json/dataflow/QNA/all\",\"rel\":\"dataflow\"}],\"name\":\"Quarterly National Accounts\",\"description\":\"Quarterly National Accounts\",\"dimensions\":{\"observation\":[{\"keyPosition\":0,\"id\":\"LOCATION\",\"name\":\"Country\",\"values\":[{\"id\":\"AUS\",\"name\":\"Australia\"},{\"id\":\"AUT\",\"name\":\"Austria\"}],\"role\":\"REF_AREA\"},{\"keyPosition\":1,\"id\":\"SUBJECT\",\"name\":\"Subject\",\"values\":[{\"id\":\"B1_GE\",\"name\":\"Gross domestic product - expenditure approach\"}]},{\"keyPosition\":2,\"id\":\"MEASURE\",\"name\":\"Measure\",\"values\":[{\"id\":\"VOBARSA\",\"name\":\"National currency, volume estimates, OECD reference year, annual levels, seasonally adjusted\"}]},{\"keyPosition\":3,\"id\":\"FREQUENCY\",\"name\":\"Frequency\",\"values\":[{\"id\":\"Q\",\"name\":\"Quarterly\"}],\"role\":\"FREQ\"},{\"id\":\"TIME_PERIOD\",\"name\":\"Period\",\"values\":[{\"id\":\"2009-Q2\",\"name\":\"Q2-2009\"},{\"id\":\"2009-Q3\",\"name\":\"Q3-2009\"},{\"id\":\"2009-Q4\",\"name\":\"Q4-2009\"},{\"id\":\"2010-Q1\",\"name\":\"Q1-2010\"},{\"id\":\"2010-Q2\",\"name\":\"Q2-2010\"},{\"id\":\"2010-Q3\",\"name\":\"Q3-2010\"},{\"id\":\"2010-Q4\",\"name\":\"Q4-2010\"},{\"id\":\"2011-Q1\",\"name\":\"Q1-2011\"},{\"id\":\"2011-Q2\",\"name\":\"Q2-2011\"},{\"id\":\"2011-Q3\",\"name\":\"Q3-2011\"},{\"id\":\"2011-Q4\",\"name\":\"Q4-2011\"}],\"role\":\"TIME_PERIOD\"}]},\"attributes\":{\"dataSet\":[],\"series\":[],\"observation\":[{\"id\":\"TIME_FORMAT\",\"name\":\"Time Format\",\"values\":[{\"id\":\"P3M\",\"name\":\"Quarterly\"}]},{\"id\":\"OBS_STATUS\",\"name\":\"Observation Status\",\"values\":[]},{\"id\":\"UNIT\",\"name\":\"Unit\",\"values\":[{\"id\":\"AUD\",\"name\":\"Australian Dollar\"},{\"id\":\"EUR\",\"name\":\"Euro\"}],\"role\":\"UNIT_MEASURE\"},{\"id\":\"POWERCODE\",\"name\":\"Unit multiplier\",\"default\":\"0\",\"values\":[{\"id\":\"6\",\"name\":\"Millions\"}],\"role\":\"UNIT_MULT\"},{\"id\":\"REFERENCEPERIOD\",\"name\":\"Reference period\",\"values\":[{\"id\":\"2015\",\"name\":\"2015\"}],\"role\":\"BASE_PER\"}]},\"annotations\":[{\"title\":\"Copyright OECD - All rights reserved\",\"uri\":\"\",\"text\":\"\"},{\"title\":\"Terms and Conditions\",\"uri\":\"http://www.oecd.org/termsandconditions/\",\"text\":\"\"},{\"title\":\"Privacy Policy\",\"uri\":\"http://www.oecd.org/privacy/\",\"text\":\"\"},{\"title\":\"MyOECD\",\"uri\":\"https://www.oecd.org/login\",\"text\":\"\"},{\"title\":\"Contact Us\",\"uri\":\"http://www.oecd.org/contact/\",\"text\":\"\"}]}}'"
      ]
     },
     "execution_count": 5,
     "metadata": {},
     "output_type": "execute_result"
    }
   ],
   "source": [
    "test_ans.content"
   ]
  },
  {
   "cell_type": "code",
   "execution_count": null,
   "metadata": {},
   "outputs": [],
   "source": []
  }
 ],
 "metadata": {
  "kernelspec": {
   "display_name": "Python 3",
   "language": "python",
   "name": "python3"
  },
  "language_info": {
   "codemirror_mode": {
    "name": "ipython",
    "version": 3
   },
   "file_extension": ".py",
   "mimetype": "text/x-python",
   "name": "python",
   "nbconvert_exporter": "python",
   "pygments_lexer": "ipython3",
   "version": "3.7.5"
  }
 },
 "nbformat": 4,
 "nbformat_minor": 2
}
